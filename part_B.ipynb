{
 "cells": [
  {
   "cell_type": "markdown",
   "metadata": {},
   "source": [
    "# TECH 2 mandatory assignment - Part B\n",
    "\n",
    "Write your solution for Part B in this notebook."
   ]
  },
  {
   "cell_type": "code",
   "execution_count": 38,
   "metadata": {},
   "outputs": [],
   "source": [
    "import numpy as np\n",
    "#import csv file\n",
    "f = open('data.csv', 'r')\n",
    "#Columns for csv file\n",
    "c1 = []\n",
    "c2 = []\n",
    "c3 = []\n",
    "#Separate into columns\n",
    "for data in f:\n",
    "    column = data.split(',')\n",
    "    if column[0] != '':\n",
    "        c1.append(float(column[0]))\n",
    "    if column[1] != '':\n",
    "        c2.append(float(column[1]))\n",
    "    if column[2] != '':\n",
    "        c3.append(float(column[2]))"
   ]
  },
  {
   "cell_type": "code",
   "execution_count": 40,
   "metadata": {},
   "outputs": [],
   "source": [
    "def std_loops(num_lst):\n",
    "    total_sum = 0\n",
    "    total_num = 0\n",
    "    mean = 0\n",
    "    #Adds total sum and total numbers of a sequence by looping until all elements in the given list has been used. \n",
    "    for i in num_lst:\n",
    "        total_sum += i\n",
    "        total_num += 1\n",
    "    # mean = average of the sequence\n",
    "    mean = total_sum/total_num\n",
    "\n",
    "    sumOfSquares = 0\n",
    "    #Iterates each element in the list and subtracts by mean first, then squares it, while also adding each iteration.\n",
    "    for i in num_lst:\n",
    "        sumOfSquares += (i - mean) ** 2\n",
    "    #variance is the sum of the squared numbers divided by the total number of elements in the sequence.\n",
    "    variance = sumOfSquares/total_num\n",
    "    #Get standard deviation (sd) by taking the square root (or to the power of 0.5) of the variance.   \n",
    "    sd = (variance) ** 0.5\n",
    "    return (sd)    \n",
    "    \n",
    "#Using builtin sum() and len()\n",
    "def std_builtin(num_lst):\n",
    "    # sumOfNum = total sum of a sequence using sum()\n",
    "    sumOfNum = sum(num_lst)\n",
    "    # n = total length of a sequence using len()\n",
    "    n = len(num_lst)\n",
    "    # mean = average of a sequence\n",
    "    average = sumOfNum/n\n",
    "    # sumOfSquares is the sum of each element subtracted by the average to the power of 2.\n",
    "    sumOfSquares = sum((i - average) ** 2 for i in num_lst)\n",
    "    # variance is the sum of the squared numbers divided by the total number of elements in the sequence.\n",
    "    variance = sumOfSquares/n\n",
    "    # sd = standard deviation \n",
    "    sd = variance**0.5\n",
    "\n",
    "    return (sd)"
   ]
  },
  {
   "cell_type": "markdown",
   "metadata": {},
   "source": [
    "Now using %timeit to find time taken for each column to finish executing:"
   ]
  },
  {
   "cell_type": "code",
   "execution_count": 42,
   "metadata": {},
   "outputs": [
    {
     "name": "stdout",
     "output_type": "stream",
     "text": [
      "23.1 μs ± 5.15 μs per loop (mean ± std. dev. of 7 runs, 100,000 loops each)\n",
      "17.3 μs ± 106 ns per loop (mean ± std. dev. of 7 runs, 100,000 loops each)\n",
      "45.3 μs ± 4.05 μs per loop (mean ± std. dev. of 7 runs, 100,000 loops each)\n"
     ]
    }
   ],
   "source": [
    "%timeit -n 100000 std_loops(c1)\n",
    "%timeit -n 100000 std_builtin(c1)\n",
    "%timeit -n 100000 np.std(c1)"
   ]
  },
  {
   "cell_type": "code",
   "execution_count": 168,
   "metadata": {},
   "outputs": [
    {
     "name": "stdout",
     "output_type": "stream",
     "text": [
      "189 μs ± 6.29 μs per loop (mean ± std. dev. of 7 runs, 10,000 loops each)\n",
      "180 μs ± 13.2 μs per loop (mean ± std. dev. of 7 runs, 10,000 loops each)\n",
      "123 μs ± 11.2 μs per loop (mean ± std. dev. of 7 runs, 10,000 loops each)\n"
     ]
    }
   ],
   "source": [
    "%timeit -n 10000 std_loops(c2)\n",
    "%timeit -n 10000 std_builtin(c2)\n",
    "%timeit -n 10000 np.std(c2)"
   ]
  },
  {
   "cell_type": "code",
   "execution_count": 171,
   "metadata": {},
   "outputs": [
    {
     "name": "stdout",
     "output_type": "stream",
     "text": [
      "2.07 ms ± 119 μs per loop (mean ± std. dev. of 7 runs, 1,000 loops each)\n",
      "1.84 ms ± 43.7 μs per loop (mean ± std. dev. of 7 runs, 1,000 loops each)\n",
      "797 μs ± 54.6 μs per loop (mean ± std. dev. of 7 runs, 1,000 loops each)\n"
     ]
    }
   ],
   "source": [
    "%timeit -n 1000 std_loops(c3)\n",
    "%timeit -n 1000 std_builtin(c3)\n",
    "%timeit -n 1000 np.std(c3)\n"
   ]
  },
  {
   "cell_type": "markdown",
   "metadata": {},
   "source": [
    "#Conclusion:\n",
    "The numpy std() function computes the standard deviation the most efficent way in column 3 and column 2 when there is a large quantity of numbers in a sequence. However, for a smaller range, the builtin function and loop function were faster than the numpy std() function. The difference is not that significant between the loop function and builtin function. "
   ]
  }
 ],
 "metadata": {
  "kernelspec": {
   "display_name": "Python 3 (ipykernel)",
   "language": "python",
   "name": "python3"
  },
  "language_info": {
   "codemirror_mode": {
    "name": "ipython",
    "version": 3
   },
   "file_extension": ".py",
   "mimetype": "text/x-python",
   "name": "python",
   "nbconvert_exporter": "python",
   "pygments_lexer": "ipython3",
   "version": "3.12.4"
  }
 },
 "nbformat": 4,
 "nbformat_minor": 4
}
